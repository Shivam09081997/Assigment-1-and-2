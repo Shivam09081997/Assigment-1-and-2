{
  "nbformat": 4,
  "nbformat_minor": 0,
  "metadata": {
    "colab": {
      "name": "Assignment 1 day 5.ipynb",
      "provenance": [],
      "authorship_tag": "ABX9TyOYlw9roW6DXQujjygIcMFT",
      "include_colab_link": true
    },
    "kernelspec": {
      "name": "python3",
      "display_name": "Python 3"
    }
  },
  "cells": [
    {
      "cell_type": "markdown",
      "metadata": {
        "id": "view-in-github",
        "colab_type": "text"
      },
      "source": [
        "<a href=\"https://colab.research.google.com/github/Shivam09081997/Assigment-1-and-2/blob/main/Assignment_1_day_5.ipynb\" target=\"_parent\"><img src=\"https://colab.research.google.com/assets/colab-badge.svg\" alt=\"Open In Colab\"/></a>"
      ]
    },
    {
      "cell_type": "markdown",
      "metadata": {
        "id": "_JZ08Q-C2rDJ"
      },
      "source": [
        "Assignment 1 day 5"
      ]
    },
    {
      "cell_type": "code",
      "metadata": {
        "id": "pfuHvBrf2qR5"
      },
      "source": [
        "# Write a function in python to check waether a number is prime or not."
      ],
      "execution_count": 1,
      "outputs": []
    },
    {
      "cell_type": "code",
      "metadata": {
        "colab": {
          "base_uri": "https://localhost:8080/"
        },
        "id": "NPWBaZFx22RW",
        "outputId": "be215253-7dbb-4c38-9e21-69897c0e5995"
      },
      "source": [
        "num = int(input(\"Enter a number: \"))      # SHIVAM GAUTAM\r\n",
        "  \r\n",
        "if num > 1:  \r\n",
        "   for i in range(2,num):  \r\n",
        "       if (num % i) == 0:  \r\n",
        "           print(num,\"is not a prime number\")  \r\n",
        "           print(i,\"times\",\"is\",num)  \r\n",
        "           break  \r\n",
        "   else:  \r\n",
        "       print(num,\"is a prime number\")  \r\n",
        "         \r\n",
        "else:  \r\n",
        "   print(num,\"is not a prime number\") "
      ],
      "execution_count": 9,
      "outputs": [
        {
          "output_type": "stream",
          "text": [
            "Enter a number: 8\n",
            "8 is not a prime number\n",
            "2 times is 8\n"
          ],
          "name": "stdout"
        }
      ]
    },
    {
      "cell_type": "code",
      "metadata": {
        "colab": {
          "base_uri": "https://localhost:8080/"
        },
        "id": "bby5Z20a3GT_",
        "outputId": "aa03ce49-6556-406d-e231-f6b8e9eabe26"
      },
      "source": [
        "num = 7    # Put number here. SHIVAM GAUTAM\r\n",
        " \r\n",
        "\r\n",
        "if num > 1:\r\n",
        " \r\n",
        "    \r\n",
        "    for i in range(2, num):\r\n",
        " \r\n",
        "        \r\n",
        "        if (num % i) == 0:\r\n",
        "            print(num, \"is not a prime number\")\r\n",
        "            break\r\n",
        "    else:\r\n",
        "        print(num, \"is a prime number\")\r\n",
        " \r\n",
        "else:\r\n",
        "    print(num, \"is not a prime number\")"
      ],
      "execution_count": 7,
      "outputs": [
        {
          "output_type": "stream",
          "text": [
            "7 is a prime number\n"
          ],
          "name": "stdout"
        }
      ]
    },
    {
      "cell_type": "code",
      "metadata": {
        "id": "bmR-R4nT3iR0"
      },
      "source": [
        ""
      ],
      "execution_count": null,
      "outputs": []
    }
  ]
}