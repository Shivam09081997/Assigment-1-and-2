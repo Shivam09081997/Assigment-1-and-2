{
  "nbformat": 4,
  "nbformat_minor": 0,
  "metadata": {
    "colab": {
      "name": "Assignment 1 and 2.ipynb",
      "provenance": [],
      "authorship_tag": "ABX9TyOM2gtci8osStdtNPPsb/rs",
      "include_colab_link": true
    },
    "kernelspec": {
      "name": "python3",
      "display_name": "Python 3"
    }
  },
  "cells": [
    {
      "cell_type": "markdown",
      "metadata": {
        "id": "view-in-github",
        "colab_type": "text"
      },
      "source": [
        "<a href=\"https://colab.research.google.com/github/Shivam09081997/Assigment-1-and-2/blob/main/Assignment_1_and_2.ipynb\" target=\"_parent\"><img src=\"https://colab.research.google.com/assets/colab-badge.svg\" alt=\"Open In Colab\"/></a>"
      ]
    },
    {
      "cell_type": "markdown",
      "metadata": {
        "id": "peaiKr4NnBoJ"
      },
      "source": [
        "Assignment 1\r\n",
        "\r\n",
        "-> Experiment with 5 list's In bulit function."
      ]
    },
    {
      "cell_type": "code",
      "metadata": {
        "colab": {
          "base_uri": "https://localhost:8080/"
        },
        "id": "tNKtV9Kum7vg",
        "outputId": "754ae00d-eae7-4f37-f78e-3268ccb9e5db"
      },
      "source": [
        "lst = [1,3,4,5,6,\"Ballu\",['x','y','z'],\"Enjoy\",\"Love\",\"and\",\"Peace\"]\r\n",
        "lst"
      ],
      "execution_count": 5,
      "outputs": [
        {
          "output_type": "execute_result",
          "data": {
            "text/plain": [
              "[1, 3, 4, 5, 6, 'Ballu', ['x', 'y', 'z'], 'Enjoy', 'Love', 'and', 'Peace']"
            ]
          },
          "metadata": {
            "tags": []
          },
          "execution_count": 5
        }
      ]
    },
    {
      "cell_type": "code",
      "metadata": {
        "colab": {
          "base_uri": "https://localhost:8080/",
          "height": 35
        },
        "id": "alJeIHJQno6X",
        "outputId": "a4b6c3c8-411a-4f23-bc53-edbc929e0756"
      },
      "source": [
        "lst[5]"
      ],
      "execution_count": 4,
      "outputs": [
        {
          "output_type": "execute_result",
          "data": {
            "application/vnd.google.colaboratory.intrinsic+json": {
              "type": "string"
            },
            "text/plain": [
              "'Ballu'"
            ]
          },
          "metadata": {
            "tags": []
          },
          "execution_count": 4
        }
      ]
    },
    {
      "cell_type": "code",
      "metadata": {
        "id": "1_krZgCzoE0P"
      },
      "source": [
        "lst.append(7)"
      ],
      "execution_count": 7,
      "outputs": []
    },
    {
      "cell_type": "code",
      "metadata": {
        "colab": {
          "base_uri": "https://localhost:8080/"
        },
        "id": "s5GX5gF4oa2b",
        "outputId": "68f94b3d-b33b-483f-8bd4-92752eaaff85"
      },
      "source": [
        "lst"
      ],
      "execution_count": 8,
      "outputs": [
        {
          "output_type": "execute_result",
          "data": {
            "text/plain": [
              "[1,\n",
              " 3,\n",
              " 4,\n",
              " 5,\n",
              " 6,\n",
              " 'Ballu',\n",
              " ['x', 'y', 'z'],\n",
              " 'Enjoy',\n",
              " 'Love',\n",
              " 'and',\n",
              " 'Peace',\n",
              " 7,\n",
              " 7]"
            ]
          },
          "metadata": {
            "tags": []
          },
          "execution_count": 8
        }
      ]
    },
    {
      "cell_type": "code",
      "metadata": {
        "id": "sU_wEa7HoeFx"
      },
      "source": [
        "lst.remove(7)"
      ],
      "execution_count": 9,
      "outputs": []
    },
    {
      "cell_type": "code",
      "metadata": {
        "colab": {
          "base_uri": "https://localhost:8080/"
        },
        "id": "enYYbwu9okLK",
        "outputId": "38627ddf-c8a3-4f6c-e316-1294781c1647"
      },
      "source": [
        "lst"
      ],
      "execution_count": 10,
      "outputs": [
        {
          "output_type": "execute_result",
          "data": {
            "text/plain": [
              "[1, 3, 4, 5, 6, 'Ballu', ['x', 'y', 'z'], 'Enjoy', 'Love', 'and', 'Peace', 7]"
            ]
          },
          "metadata": {
            "tags": []
          },
          "execution_count": 10
        }
      ]
    },
    {
      "cell_type": "code",
      "metadata": {
        "colab": {
          "base_uri": "https://localhost:8080/",
          "height": 35
        },
        "id": "a8Hm1TFColJR",
        "outputId": "d31ad143-d2d2-468f-e503-4ae8fb2db6d2"
      },
      "source": [
        "lst[-3]"
      ],
      "execution_count": 11,
      "outputs": [
        {
          "output_type": "execute_result",
          "data": {
            "application/vnd.google.colaboratory.intrinsic+json": {
              "type": "string"
            },
            "text/plain": [
              "'and'"
            ]
          },
          "metadata": {
            "tags": []
          },
          "execution_count": 11
        }
      ]
    },
    {
      "cell_type": "code",
      "metadata": {
        "id": "pBpQn4I_oriL"
      },
      "source": [
        "lst.insert(4,'No')"
      ],
      "execution_count": 16,
      "outputs": []
    },
    {
      "cell_type": "code",
      "metadata": {
        "colab": {
          "base_uri": "https://localhost:8080/"
        },
        "id": "CWkscvqDo2dy",
        "outputId": "52f57a25-3abf-41c2-a6fd-145c86805610"
      },
      "source": [
        "lst"
      ],
      "execution_count": 17,
      "outputs": [
        {
          "output_type": "execute_result",
          "data": {
            "text/plain": [
              "[1,\n",
              " 3,\n",
              " 4,\n",
              " 5,\n",
              " 'No',\n",
              " 6,\n",
              " 'Ballu',\n",
              " ['x', 'y', 'z'],\n",
              " 'Enjoy',\n",
              " 'Love',\n",
              " 'and',\n",
              " 'Peace',\n",
              " 7]"
            ]
          },
          "metadata": {
            "tags": []
          },
          "execution_count": 17
        }
      ]
    },
    {
      "cell_type": "markdown",
      "metadata": {
        "id": "yJV1d6QspjHZ"
      },
      "source": [
        "Assignment 2\r\n",
        "Experiment with 5 Dict's In built function."
      ]
    },
    {
      "cell_type": "code",
      "metadata": {
        "id": "RbAGq07bpWC2"
      },
      "source": [
        "dit = {\"Bike\":\"Company\",\"Price\":\"Model\"}"
      ],
      "execution_count": 20,
      "outputs": []
    },
    {
      "cell_type": "code",
      "metadata": {
        "colab": {
          "base_uri": "https://localhost:8080/"
        },
        "id": "iEI63PDGp2uq",
        "outputId": "ad3eea15-9bca-42b1-ad2a-472401517c95"
      },
      "source": [
        "dit"
      ],
      "execution_count": 21,
      "outputs": [
        {
          "output_type": "execute_result",
          "data": {
            "text/plain": [
              "{'Bike': 'Company', 'Price': 'Model'}"
            ]
          },
          "metadata": {
            "tags": []
          },
          "execution_count": 21
        }
      ]
    },
    {
      "cell_type": "code",
      "metadata": {
        "colab": {
          "base_uri": "https://localhost:8080/",
          "height": 35
        },
        "id": "G_dAoulLp82V",
        "outputId": "7cbb06a3-1835-4022-f6ad-7e405acc878b"
      },
      "source": [
        "dit.get(\"Bike\")"
      ],
      "execution_count": 23,
      "outputs": [
        {
          "output_type": "execute_result",
          "data": {
            "application/vnd.google.colaboratory.intrinsic+json": {
              "type": "string"
            },
            "text/plain": [
              "'Company'"
            ]
          },
          "metadata": {
            "tags": []
          },
          "execution_count": 23
        }
      ]
    },
    {
      "cell_type": "code",
      "metadata": {
        "colab": {
          "base_uri": "https://localhost:8080/",
          "height": 35
        },
        "id": "uJHq7DJ7qCOZ",
        "outputId": "1cafa1f1-f428-433e-a748-58c661382879"
      },
      "source": [
        "dit['Price']"
      ],
      "execution_count": 24,
      "outputs": [
        {
          "output_type": "execute_result",
          "data": {
            "application/vnd.google.colaboratory.intrinsic+json": {
              "type": "string"
            },
            "text/plain": [
              "'Model'"
            ]
          },
          "metadata": {
            "tags": []
          },
          "execution_count": 24
        }
      ]
    },
    {
      "cell_type": "code",
      "metadata": {
        "colab": {
          "base_uri": "https://localhost:8080/"
        },
        "id": "KlFNMpoJqMRu",
        "outputId": "cfbb20cf-6821-45f4-e013-24814366d119"
      },
      "source": [
        "dit"
      ],
      "execution_count": 26,
      "outputs": [
        {
          "output_type": "execute_result",
          "data": {
            "text/plain": [
              "{'Bike': 'Company', 'Price': 'Model'}"
            ]
          },
          "metadata": {
            "tags": []
          },
          "execution_count": 26
        }
      ]
    },
    {
      "cell_type": "code",
      "metadata": {
        "colab": {
          "base_uri": "https://localhost:8080/"
        },
        "id": "XYcSUcN1qXzo",
        "outputId": "66d1be41-9103-4ed7-ece8-671818c25b27"
      },
      "source": [
        "dit.keys"
      ],
      "execution_count": 27,
      "outputs": [
        {
          "output_type": "execute_result",
          "data": {
            "text/plain": [
              "<function dict.keys>"
            ]
          },
          "metadata": {
            "tags": []
          },
          "execution_count": 27
        }
      ]
    },
    {
      "cell_type": "code",
      "metadata": {
        "colab": {
          "base_uri": "https://localhost:8080/"
        },
        "id": "YStxG2hYqjRH",
        "outputId": "473e3489-6fa3-4813-cf85-de860628f879"
      },
      "source": [
        "dit"
      ],
      "execution_count": 30,
      "outputs": [
        {
          "output_type": "execute_result",
          "data": {
            "text/plain": [
              "{'Bike': 'Company', 'Price': 'Model'}"
            ]
          },
          "metadata": {
            "tags": []
          },
          "execution_count": 30
        }
      ]
    },
    {
      "cell_type": "code",
      "metadata": {
        "id": "YhAOTdtRqnvj"
      },
      "source": [
        ""
      ],
      "execution_count": null,
      "outputs": []
    }
  ]
}